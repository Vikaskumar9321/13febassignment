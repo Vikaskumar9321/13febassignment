{
 "cells": [
  {
   "cell_type": "markdown",
   "id": "726d2aee-1f95-4e20-aa79-01f06dd0af05",
   "metadata": {},
   "source": [
    "#Ans1"
   ]
  },
  {
   "cell_type": "code",
   "execution_count": 1,
   "id": "0ed5fa82-89a1-422e-b395-5318380d76e4",
   "metadata": {},
   "outputs": [],
   "source": [
    "import logging"
   ]
  },
  {
   "cell_type": "code",
   "execution_count": 2,
   "id": "e680afd5-f6ac-431e-9729-ad2a352af2c5",
   "metadata": {},
   "outputs": [],
   "source": [
    "logging.basicConfig(filename= \"ass1.log\" , level = logging.ERROR )"
   ]
  },
  {
   "cell_type": "code",
   "execution_count": 25,
   "id": "93b7d921-4ef9-4c0d-94e6-b9dfb3572e85",
   "metadata": {},
   "outputs": [],
   "source": [
    "try :\n",
    "    logging.error(\"when creating a custom exception in a programming language, it is important to use the exception class as the base class for the custom exception. This is because the exception class provides a standard set of properties and methtods that are commonly used in handling exception, such asthe ability to provide an error message and a stack trace.\")\n",
    "    logging.error(\"in addition, using the Exception class as the base class for a custom exception allows it to be caught by a catch block that is designed to handle exception of type exception or a more general type, such as throwable or Errormaking it easier to handle exception in a consistent and predictable manner.\")\n",
    "    logging.error(\"By inheriting from the exception class, a custom exception can also benefit from any changes or improvements made to the base class in future updates to the programming langauge or framework.\")\n",
    "    logging.error(\"Overall, using the  Exception class as the base class for a custom exception provides a standard set of properties and methods, allows the exception to be caught by a wider range of catch blocks, and future-proofs the code by allowing it to take advantage of any improvements to the base class.\")\n",
    "except Exception as e :\n",
    "    logging.error(e)\n",
    "finally:    \n",
    "    logging.error(\"close\")    "
   ]
  },
  {
   "cell_type": "markdown",
   "id": "004eb025-17dc-4445-b8a0-262ca3ac20fe",
   "metadata": {},
   "source": [
    "#Ans2"
   ]
  },
  {
   "cell_type": "code",
   "execution_count": 26,
   "id": "9a0eb9b9-2242-4523-a038-ff942004e0e1",
   "metadata": {},
   "outputs": [],
   "source": [
    "def  print_exception_hierarchy():\n",
    "    logging.error(\"python Exception Hierarchy:\")\n",
    "    logging.error(\"-\" * 30)\n",
    "    base_exception = BaseException\n",
    "    while True :\n",
    "        logging.error(base_exception.__name__)\n",
    "        base_exception = base_exception.__base__\n",
    "        if not base_exception:\n",
    "            break\n",
    "if __name__ == \"__main__\":\n",
    "    print_exception_hierarchy()"
   ]
  },
  {
   "cell_type": "markdown",
   "id": "f02ba0c3-c123-4648-92f1-90f3dad550e5",
   "metadata": {},
   "source": [
    "#Ans3"
   ]
  },
  {
   "cell_type": "code",
   "execution_count": 27,
   "id": "3d366634-e1bf-4013-90d6-4925186776c6",
   "metadata": {},
   "outputs": [],
   "source": [
    "logging.error(\"The 'ArithmeticsError' class in python is base class for errors that occurs during arithmetics operation, such as divison byb zero, overflow, or underflow. here are two common errors that are defined in the 'ArithmeticError' class with \")\n",
    "try:\n",
    "    a = 10 \n",
    "    b= 0\n",
    "    c = a/b\n",
    "except ZeroDivisionError :\n",
    "    logging.error(\"Cannot divide by zero\")\n",
    "except OverFlowError:\n",
    "    logging.error(\"Result is too large to be represented\")\n",
    "finally:    \n",
    "    logging.error(\"close\")"
   ]
  },
  {
   "cell_type": "markdown",
   "id": "0ffc6fe1-3b9e-4f45-9886-e2bcc336c1af",
   "metadata": {},
   "source": [
    "#Ans 4"
   ]
  },
  {
   "cell_type": "code",
   "execution_count": 28,
   "id": "c9cf817f-d73f-47c4-b44c-505c9437b069",
   "metadata": {},
   "outputs": [],
   "source": [
    "logging.error(\"The 'LookupError' class in python is a base class for errors that occur when a specified key or index cannot be found in a collection, such as a list or a dicitionary. it is a subclass of the 'Exception ' class. \")\n",
    "logging.error(\"Two common error that are defined in the 'LookupError' class are 'KeyError and 'IndexError'.'\")\n",
    "logging.error(\"1. KeyError : THis error occurs when a specified key cannot be found in a dicitonary. \")\n",
    "try:\n",
    "    my_dict = {\"a\" : 1, \"b\" : 2 , \"c\": 3}\n",
    "    value = my_dict[\"d\"]\n",
    "except KeyError :\n",
    "    logging.error(\"THe key 'd' does not exist in the dicitinoary\")\n",
    "finally:    \n",
    "    logging.error(\"close\")"
   ]
  },
  {
   "cell_type": "code",
   "execution_count": 29,
   "id": "74540da3-f5be-4179-8ccd-07a54625f7a3",
   "metadata": {},
   "outputs": [],
   "source": [
    "logging.error(\"2. IndexError: This error occurs when a specified index is out of range of a list or other sequence\")\n",
    "try:\n",
    "    my_list = [1,2,3,4]\n",
    "    value = my_list[4]\n",
    "except IndexError:\n",
    "    logging.error(\"The index 4 is out of rangne for the list\")\n",
    "finally:    \n",
    "    logging.error(\"close\")    "
   ]
  },
  {
   "cell_type": "markdown",
   "id": "c28952f1-df80-40cb-a7f8-6cb8eb904de2",
   "metadata": {},
   "source": [
    "#Ans 5"
   ]
  },
  {
   "cell_type": "code",
   "execution_count": 23,
   "id": "0947a1e4-72fa-42bb-aa2e-18f7a673f2c2",
   "metadata": {},
   "outputs": [],
   "source": [
    "logging.error(\"In python, 'ImportError' is an exception that occurs when a module or package cannot be imported. this error can occur for a variety of reasons, such as\")\n",
    "logging.error(\"The module or package name is misspelled or does not exist\")\n",
    "logging.error(\"The module or package is not installed\")\n",
    "logging.error(\"The module or package is instaleed in a different location than expected.\")\n",
    "logging.error(\"The module or package has circular dependencies\")\n",
    "try:\n",
    "    import my_module\n",
    "except ImportError :\n",
    "    logging.error(\"The  required module 'my_module' could not ne imported\")\n",
    "except ModuleNotFoundError:\n",
    "    logging.error(\"The Required module 'my_module' could not be found in the search path\")\n",
    "finally:    \n",
    "    logging.error(\"close\")"
   ]
  },
  {
   "cell_type": "markdown",
   "id": "aafd87ba-f4c2-499a-9261-5bfb5c297af6",
   "metadata": {},
   "source": [
    "#Ans6"
   ]
  },
  {
   "cell_type": "code",
   "execution_count": 31,
   "id": "7e404ca7-41ed-40f1-828b-63ffa4c5aa60",
   "metadata": {},
   "outputs": [],
   "source": [
    "logging.error(\"Here are some best practices for exception handling in python:\")\n",
    "logging.error(\"1. Be specific with exception handling: Catch exception that you are exception and  handle them appropriately. Do not use a broad exception like 'Exception'to catch all exception as it can hide impoortant errors and amke debugging difficult. \")\n",
    "logging.error(\"2. Use the right exception types: Use built-in exception types wherever possible, and create custom exception when necessary.\")\n",
    "logging.error(\"3. Use try-except-else block: Use 'try-except-else' block to separate the code that can raise exception from the code  that executes when no exceptions occur. This can make the code more readbale and easier to understand.\")\n",
    "logging.error(\"4. Don't ingnore exception: Never ignore exception as they can lead to unexcepted behaviour or crashes. Instead, handle them approiately or re-raise them if necessary.\")\n",
    "logging.error(\"5. Provide informtive error messages: when raising exception or ratching them, provide informative error messages that explain what went wrong and how to fix it. This can make debugging easier and help  users understand what they need to do to resolve the issue.\")\n",
    "logging.error(\"6. Avoid using exception for flow control: Exception should not be used for flow contorl in normal program exceution. they should only be used for handling exceptional coinditons\")\n",
    "logging.error(\"7. Use Finally blocks for cleanup code : USe finally block to execute cleanup code that should be executed regardless of whether an exception occurs or not. This can be useful for releasing resources or closing files,\")\n",
    "logging.error(\"8. Keep exception handling simple: DO not overcomplicate exception handling by nesting multiple 'try-except' blocks. keep it simple and easy to read\")\n",
    "logging.error(\"9. Test Exception handling : Test your code thoroughly to make sure that exception are being handled appropriately and that error messages are informative and helpful\")"
   ]
  },
  {
   "cell_type": "code",
   "execution_count": 32,
   "id": "e85dabca-2a0c-4520-a86a-3fef930bfad4",
   "metadata": {},
   "outputs": [],
   "source": [
    "logging.shutdown()"
   ]
  },
  {
   "cell_type": "code",
   "execution_count": null,
   "id": "fe1a2a59-7dc2-4083-8bc3-dff8b3754d70",
   "metadata": {},
   "outputs": [],
   "source": []
  }
 ],
 "metadata": {
  "kernelspec": {
   "display_name": "Python 3 (ipykernel)",
   "language": "python",
   "name": "python3"
  },
  "language_info": {
   "codemirror_mode": {
    "name": "ipython",
    "version": 3
   },
   "file_extension": ".py",
   "mimetype": "text/x-python",
   "name": "python",
   "nbconvert_exporter": "python",
   "pygments_lexer": "ipython3",
   "version": "3.10.8"
  }
 },
 "nbformat": 4,
 "nbformat_minor": 5
}
